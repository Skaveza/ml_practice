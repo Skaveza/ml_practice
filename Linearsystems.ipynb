{
  "nbformat": 4,
  "nbformat_minor": 0,
  "metadata": {
    "colab": {
      "provenance": [],
      "authorship_tag": "ABX9TyPup33SQSnngGywZBSIgU8M",
      "include_colab_link": true
    },
    "kernelspec": {
      "name": "python3",
      "display_name": "Python 3"
    },
    "language_info": {
      "name": "python"
    }
  },
  "cells": [
    {
      "cell_type": "markdown",
      "metadata": {
        "id": "view-in-github",
        "colab_type": "text"
      },
      "source": [
        "<a href=\"https://colab.research.google.com/github/Skaveza/ml_practice/blob/main/Linearsystems.ipynb\" target=\"_parent\"><img src=\"https://colab.research.google.com/assets/colab-badge.svg\" alt=\"Open In Colab\"/></a>"
      ]
    },
    {
      "cell_type": "code",
      "execution_count": 4,
      "metadata": {
        "id": "tQNYW8BMwHMJ"
      },
      "outputs": [],
      "source": [
        "import numpy as np\n",
        "import matplotlib.pyplot as plt\n"
      ]
    },
    {
      "cell_type": "code",
      "source": [
        "A = np.array([\n",
        "        [-1, 3],\n",
        "        [3, 2]\n",
        "    ], dtype=np.dtype(float))\n",
        "\n",
        "b = np.array([7, 1], dtype=np.dtype(float))\n",
        "\n",
        "print(\"Matrix A:\")\n",
        "print(A)\n",
        "print(\"\\nArray b:\")\n",
        "print(b)\n",
        "print(f\"Shape of A: {A.shape}\")\n",
        "print(f\"Shape of b: {b.shape}\")\n",
        "\n"
      ],
      "metadata": {
        "colab": {
          "base_uri": "https://localhost:8080/"
        },
        "id": "nwk3wL4BC0F-",
        "outputId": "a46410e8-197d-4125-aebe-894b933d0225"
      },
      "execution_count": 8,
      "outputs": [
        {
          "output_type": "stream",
          "name": "stdout",
          "text": [
            "Matrix A:\n",
            "[[-1.  3.]\n",
            " [ 3.  2.]]\n",
            "\n",
            "Array b:\n",
            "[7. 1.]\n",
            "Shape of A: (2, 2)\n",
            "Shape of b: (2,)\n"
          ]
        }
      ]
    },
    {
      "cell_type": "code",
      "source": [
        "x=np.linalg.solve(A, b)\n",
        "print(f\"Solution: {x}\")\n"
      ],
      "metadata": {
        "colab": {
          "base_uri": "https://localhost:8080/"
        },
        "id": "IfKrgqvsHnsr",
        "outputId": "f742c5e4-6fea-4895-af9c-87e7e1b5d8ed"
      },
      "execution_count": 10,
      "outputs": [
        {
          "output_type": "stream",
          "name": "stdout",
          "text": [
            "Solution: [-1.  2.]\n"
          ]
        }
      ]
    },
    {
      "cell_type": "code",
      "source": [
        "d = np.linalg.det(A)\n",
        "\n",
        "print(f\"Determinant of matrix A: {d:.2f}\")"
      ],
      "metadata": {
        "colab": {
          "base_uri": "https://localhost:8080/"
        },
        "id": "YEGOhGcFdnv3",
        "outputId": "ebec33bb-34c8-4ebf-eb63-d2200a2fdfbf"
      },
      "execution_count": 11,
      "outputs": [
        {
          "output_type": "stream",
          "name": "stdout",
          "text": [
            "Determinant of matrix A: -11.00\n"
          ]
        }
      ]
    },
    {
      "cell_type": "code",
      "source": [
        "A_system = np.hstack((A, b.reshape((2, 1))))\n",
        "\n",
        "print(A_system)"
      ],
      "metadata": {
        "colab": {
          "base_uri": "https://localhost:8080/"
        },
        "id": "IyXThsRbeYx4",
        "outputId": "7f641cea-bce8-482a-cbc7-6fae7bb40976"
      },
      "execution_count": 12,
      "outputs": [
        {
          "output_type": "stream",
          "name": "stdout",
          "text": [
            "[[-1.  3.  7.]\n",
            " [ 3.  2.  1.]]\n"
          ]
        }
      ]
    },
    {
      "cell_type": "code",
      "source": [
        "A_2 = np.array([\n",
        "        [-1, 3],\n",
        "        [3, -9]\n",
        "    ], dtype=np.dtype(float))\n",
        "\n",
        "b_2 = np.array([7, 1], dtype=np.dtype(float))\n",
        "\n",
        "d_2 = np.linalg.det(A_2)\n",
        "\n",
        "print(f\"Determinant of matrix A_2: {d_2:.2f}\")"
      ],
      "metadata": {
        "colab": {
          "base_uri": "https://localhost:8080/"
        },
        "id": "9R91UL57e8Fc",
        "outputId": "4a79493a-75c1-40a7-e709-2f3c6d2a3e41"
      },
      "execution_count": 13,
      "outputs": [
        {
          "output_type": "stream",
          "name": "stdout",
          "text": [
            "Determinant of matrix A_2: 0.00\n"
          ]
        }
      ]
    }
  ]
}