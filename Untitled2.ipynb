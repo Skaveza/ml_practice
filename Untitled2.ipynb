{
  "nbformat": 4,
  "nbformat_minor": 0,
  "metadata": {
    "colab": {
      "provenance": [],
      "authorship_tag": "ABX9TyPhwQp4CIJJrTlhnGGP1ZrV",
      "include_colab_link": true
    },
    "kernelspec": {
      "name": "python3",
      "display_name": "Python 3"
    },
    "language_info": {
      "name": "python"
    }
  },
  "cells": [
    {
      "cell_type": "markdown",
      "metadata": {
        "id": "view-in-github",
        "colab_type": "text"
      },
      "source": [
        "<a href=\"https://colab.research.google.com/github/Skaveza/ml_practice/blob/main/Untitled2.ipynb\" target=\"_parent\"><img src=\"https://colab.research.google.com/assets/colab-badge.svg\" alt=\"Open In Colab\"/></a>"
      ]
    },
    {
      "cell_type": "code",
      "execution_count": 3,
      "metadata": {
        "colab": {
          "base_uri": "https://localhost:8080/"
        },
        "id": "iCjsWMDHX6ym",
        "outputId": "59105a95-2559-4e83-e0fb-7bf89d923e4e"
      },
      "outputs": [
        {
          "output_type": "stream",
          "name": "stdout",
          "text": [
            "Hello World\n"
          ]
        }
      ],
      "source": [
        "test = \"Hello World\"\n",
        "print(test)"
      ]
    },
    {
      "cell_type": "code",
      "source": [
        "import numpy as np\n"
      ],
      "metadata": {
        "id": "mm2Z3YZmY68j"
      },
      "execution_count": 4,
      "outputs": []
    },
    {
      "cell_type": "code",
      "source": [
        "one_dimensional_arr = np.array([10, 12])\n",
        "print(one_dimensional_arr)"
      ],
      "metadata": {
        "colab": {
          "base_uri": "https://localhost:8080/"
        },
        "id": "CatlJqoJZGfo",
        "outputId": "d47d8409-4f8f-44d1-a2e6-a064b357b2eb"
      },
      "execution_count": 5,
      "outputs": [
        {
          "output_type": "stream",
          "name": "stdout",
          "text": [
            "[10 12]\n"
          ]
        }
      ]
    },
    {
      "cell_type": "code",
      "source": [
        "a = np.array([1, 2, 3])\n",
        "print(a)"
      ],
      "metadata": {
        "colab": {
          "base_uri": "https://localhost:8080/"
        },
        "id": "aIeLJ0ybZyjR",
        "outputId": "b60bac25-343d-4dd9-96ab-f303312f7199"
      },
      "execution_count": 6,
      "outputs": [
        {
          "output_type": "stream",
          "name": "stdout",
          "text": [
            "[1 2 3]\n"
          ]
        }
      ]
    },
    {
      "cell_type": "code",
      "source": [
        "b = np.arange(3)\n",
        "print(b)"
      ],
      "metadata": {
        "colab": {
          "base_uri": "https://localhost:8080/"
        },
        "id": "mJs1hCVQajFc",
        "outputId": "07e96d44-502b-488b-d526-7854508ac292"
      },
      "execution_count": 7,
      "outputs": [
        {
          "output_type": "stream",
          "name": "stdout",
          "text": [
            "[0 1 2]\n"
          ]
        }
      ]
    },
    {
      "cell_type": "code",
      "source": [
        "c = np.arange(0, 100, 5)\n",
        "print(c)"
      ],
      "metadata": {
        "colab": {
          "base_uri": "https://localhost:8080/"
        },
        "id": "tOLXPU49bHjT",
        "outputId": "071fa6e8-75b9-4f06-b8c2-324f22ddbb10"
      },
      "execution_count": 9,
      "outputs": [
        {
          "output_type": "stream",
          "name": "stdout",
          "text": [
            "[ 0  5 10 15 20 25 30 35 40 45 50 55 60 65 70 75 80 85 90 95]\n"
          ]
        }
      ]
    },
    {
      "cell_type": "code",
      "source": [
        "line_spaced_arr = np.linspace(0, 100, 5)\n",
        "print(line_spaced_arr)"
      ],
      "metadata": {
        "colab": {
          "base_uri": "https://localhost:8080/"
        },
        "id": "Bc_G5NqabUij",
        "outputId": "299bb88f-28f1-48b9-a866-4f601c73853f"
      },
      "execution_count": 10,
      "outputs": [
        {
          "output_type": "stream",
          "name": "stdout",
          "text": [
            "[  0.  25.  50.  75. 100.]\n"
          ]
        }
      ]
    },
    {
      "cell_type": "code",
      "source": [
        "line_spaced_arr_int = np.linspace(0, 100, 5, dtype=int)\n",
        "print(line_spaced_arr_int)\n"
      ],
      "metadata": {
        "colab": {
          "base_uri": "https://localhost:8080/"
        },
        "id": "dUla82IzcIrj",
        "outputId": "f2074f51-7164-4914-e674-c30315833a6f"
      },
      "execution_count": 11,
      "outputs": [
        {
          "output_type": "stream",
          "name": "stdout",
          "text": [
            "[  0  25  50  75 100]\n"
          ]
        }
      ]
    },
    {
      "cell_type": "code",
      "source": [
        "c_int = np.arange(0, 100, 5, dtype=int)\n",
        "print(c_int)"
      ],
      "metadata": {
        "colab": {
          "base_uri": "https://localhost:8080/"
        },
        "id": "HyuauBDjcS_8",
        "outputId": "42f25354-a18d-476c-fcd1-416d343195d1"
      },
      "execution_count": 12,
      "outputs": [
        {
          "output_type": "stream",
          "name": "stdout",
          "text": [
            "[ 0  5 10 15 20 25 30 35 40 45 50 55 60 65 70 75 80 85 90 95]\n"
          ]
        }
      ]
    },
    {
      "cell_type": "code",
      "source": [
        "b_float = np.arange(3, dtype=float)\n",
        "print(b_float)"
      ],
      "metadata": {
        "colab": {
          "base_uri": "https://localhost:8080/"
        },
        "id": "7VjQgVWHcdSC",
        "outputId": "98b8f6f4-dc20-4955-c11f-d4de2b291a1a"
      },
      "execution_count": 13,
      "outputs": [
        {
          "output_type": "stream",
          "name": "stdout",
          "text": [
            "[0. 1. 2.]\n"
          ]
        }
      ]
    },
    {
      "cell_type": "code",
      "source": [
        "char_arr = np.array(['Welcome to Math for ML!'])\n",
        "print(char_arr)\n",
        "print(char_arr.dtype)"
      ],
      "metadata": {
        "colab": {
          "base_uri": "https://localhost:8080/"
        },
        "id": "t9536PEpdBzJ",
        "outputId": "637258f5-303f-4464-b5a7-a9fe8371ea1f"
      },
      "execution_count": 15,
      "outputs": [
        {
          "output_type": "stream",
          "name": "stdout",
          "text": [
            "['Welcome to Math for ML!']\n",
            "<U23\n"
          ]
        }
      ]
    },
    {
      "cell_type": "code",
      "source": [
        "ones_arr = np.ones(3)\n",
        "print(ones_arr)"
      ],
      "metadata": {
        "colab": {
          "base_uri": "https://localhost:8080/"
        },
        "id": "07eHdMyUd79a",
        "outputId": "c4959b61-dfde-4287-b893-5f71e55cd5cc"
      },
      "execution_count": 16,
      "outputs": [
        {
          "output_type": "stream",
          "name": "stdout",
          "text": [
            "[1. 1. 1.]\n"
          ]
        }
      ]
    },
    {
      "cell_type": "code",
      "source": [
        "zero_arr = np.zeros(3)\n",
        "print(zero_arr)"
      ],
      "metadata": {
        "colab": {
          "base_uri": "https://localhost:8080/"
        },
        "id": "idtLobhpeCmP",
        "outputId": "36c41dd8-7792-4b29-e5c8-4e127c445030"
      },
      "execution_count": 17,
      "outputs": [
        {
          "output_type": "stream",
          "name": "stdout",
          "text": [
            "[0. 0. 0.]\n"
          ]
        }
      ]
    },
    {
      "cell_type": "code",
      "source": [
        "empt_arr = np.empty(3)\n",
        "print(empt_arr)"
      ],
      "metadata": {
        "colab": {
          "base_uri": "https://localhost:8080/"
        },
        "id": "2zCob8DleG2p",
        "outputId": "af84f4fc-0de5-4f0f-f45e-0e3a92731fe8"
      },
      "execution_count": 18,
      "outputs": [
        {
          "output_type": "stream",
          "name": "stdout",
          "text": [
            "[0. 0. 0.]\n"
          ]
        }
      ]
    },
    {
      "cell_type": "code",
      "source": [
        "rand_arr = np.random.rand(3)\n",
        "print(rand_arr)"
      ],
      "metadata": {
        "colab": {
          "base_uri": "https://localhost:8080/"
        },
        "id": "WDyBD9UjesQO",
        "outputId": "1d9d64e3-5d1a-4ca8-a3a7-b9fe61277bb8"
      },
      "execution_count": 20,
      "outputs": [
        {
          "output_type": "stream",
          "name": "stdout",
          "text": [
            "[0.39840145 0.25793023 0.58012053]\n"
          ]
        }
      ]
    },
    {
      "cell_type": "code",
      "source": [
        "two_dim_arr = np.array([[1,2,3], [4,5,6]])\n",
        "print(two_dim_arr)"
      ],
      "metadata": {
        "colab": {
          "base_uri": "https://localhost:8080/"
        },
        "id": "G3l-pV1wfAi1",
        "outputId": "468ac14c-5c2a-45e7-b4c7-4fce00b8095c"
      },
      "execution_count": 22,
      "outputs": [
        {
          "output_type": "stream",
          "name": "stdout",
          "text": [
            "[[1 2 3]\n",
            " [4 5 6]]\n"
          ]
        }
      ]
    },
    {
      "cell_type": "code",
      "source": [
        "one_dim_arr = np.array([1,2,3,4,5,6])\n",
        "\n",
        "multi_dim_arr = np.reshape(one_dim_arr, (2, 3))\n",
        "print(multi_dim_arr)"
      ],
      "metadata": {
        "colab": {
          "base_uri": "https://localhost:8080/"
        },
        "id": "A7-J7bZ3fZR7",
        "outputId": "0d5b6974-4a55-4a67-bab3-e7087b3a73fd"
      },
      "execution_count": 23,
      "outputs": [
        {
          "output_type": "stream",
          "name": "stdout",
          "text": [
            "[[1 2 3]\n",
            " [4 5 6]]\n"
          ]
        }
      ]
    },
    {
      "cell_type": "code",
      "source": [
        "multi_dim_arr.ndim"
      ],
      "metadata": {
        "colab": {
          "base_uri": "https://localhost:8080/"
        },
        "id": "lYvFAvx1lixW",
        "outputId": "df55010c-9ff3-4b40-ce1f-7b46924b33fb"
      },
      "execution_count": 24,
      "outputs": [
        {
          "output_type": "execute_result",
          "data": {
            "text/plain": [
              "2"
            ]
          },
          "metadata": {},
          "execution_count": 24
        }
      ]
    },
    {
      "cell_type": "code",
      "source": [
        "multi_dim_arr.shape"
      ],
      "metadata": {
        "colab": {
          "base_uri": "https://localhost:8080/"
        },
        "id": "Fnp57uSXlyAa",
        "outputId": "2bd86f6e-f0ee-4369-a5d0-aa6862cfef37"
      },
      "execution_count": 25,
      "outputs": [
        {
          "output_type": "execute_result",
          "data": {
            "text/plain": [
              "(2, 3)"
            ]
          },
          "metadata": {},
          "execution_count": 25
        }
      ]
    },
    {
      "cell_type": "code",
      "source": [
        "multi_dim_arr.size"
      ],
      "metadata": {
        "colab": {
          "base_uri": "https://localhost:8080/"
        },
        "id": "Y6aKz6IJl3f4",
        "outputId": "9e381b98-ecd8-48b3-b32f-f110c63459a6"
      },
      "execution_count": 26,
      "outputs": [
        {
          "output_type": "execute_result",
          "data": {
            "text/plain": [
              "6"
            ]
          },
          "metadata": {},
          "execution_count": 26
        }
      ]
    },
    {
      "cell_type": "code",
      "source": [
        "vector = np.array([1, 2])\n",
        "vector * 1.6\n"
      ],
      "metadata": {
        "colab": {
          "base_uri": "https://localhost:8080/"
        },
        "id": "_f2W4vxLmCFx",
        "outputId": "b908426f-5085-41f9-c547-b601e374cbca"
      },
      "execution_count": 28,
      "outputs": [
        {
          "output_type": "execute_result",
          "data": {
            "text/plain": [
              "array([1.6, 3.2])"
            ]
          },
          "metadata": {},
          "execution_count": 28
        }
      ]
    },
    {
      "cell_type": "code",
      "source": [
        "a = np.array([1,2,3,4,5])\n",
        "print(a[2])"
      ],
      "metadata": {
        "colab": {
          "base_uri": "https://localhost:8080/"
        },
        "id": "zn1QdIoxnIIl",
        "outputId": "acc3cede-1aac-461c-acbb-672986759470"
      },
      "execution_count": 29,
      "outputs": [
        {
          "output_type": "stream",
          "name": "stdout",
          "text": [
            "3\n"
          ]
        }
      ]
    },
    {
      "cell_type": "code",
      "source": [
        "# Indexing a 2-D array\n",
        "two_dim = np.array(([1,2,3], [4,5,6], [7,8,9]))\n",
        "print(two_dim[2][1])"
      ],
      "metadata": {
        "colab": {
          "base_uri": "https://localhost:8080/"
        },
        "id": "le6fQmBHmZWY",
        "outputId": "5826d556-4810-4a29-ea0e-758f1046a08a"
      },
      "execution_count": 32,
      "outputs": [
        {
          "output_type": "stream",
          "name": "stdout",
          "text": [
            "8\n"
          ]
        }
      ]
    },
    {
      "cell_type": "code",
      "source": [
        "# Slicing the array a to get the array [2,3,4]\n",
        "sliced_arr = a[1:4]\n",
        "print(sliced_arr)"
      ],
      "metadata": {
        "colab": {
          "base_uri": "https://localhost:8080/"
        },
        "id": "Z_3uxJ4soTg-",
        "outputId": "c9dab258-3c7d-46b6-ed08-979ad41616c3"
      },
      "execution_count": 33,
      "outputs": [
        {
          "output_type": "stream",
          "name": "stdout",
          "text": [
            "[2 3 4]\n"
          ]
        }
      ]
    },
    {
      "cell_type": "code",
      "source": [
        "sliced_arr = a[:3]\n",
        "print(sliced_arr)"
      ],
      "metadata": {
        "colab": {
          "base_uri": "https://localhost:8080/"
        },
        "id": "6qHP-vl-o_xj",
        "outputId": "e8df98df-6d52-46d6-f92c-cde94e7674bf"
      },
      "execution_count": 34,
      "outputs": [
        {
          "output_type": "stream",
          "name": "stdout",
          "text": [
            "[1 2 3]\n"
          ]
        }
      ]
    },
    {
      "cell_type": "code",
      "source": [
        "sliced_arr = a[2:]\n",
        "print(sliced_arr)"
      ],
      "metadata": {
        "colab": {
          "base_uri": "https://localhost:8080/"
        },
        "id": "4AvZSDPBptvQ",
        "outputId": "3efd32bc-f379-42ed-cd7d-8ed7792fa8e3"
      },
      "execution_count": 35,
      "outputs": [
        {
          "output_type": "stream",
          "name": "stdout",
          "text": [
            "[3 4 5]\n"
          ]
        }
      ]
    },
    {
      "cell_type": "code",
      "source": [
        "sliced_arr = a[::2]\n",
        "print(sliced_arr)\n"
      ],
      "metadata": {
        "colab": {
          "base_uri": "https://localhost:8080/"
        },
        "id": "gfXEcPSOp56o",
        "outputId": "0882b22b-24d2-420b-91e3-477b41b19ff5"
      },
      "execution_count": 36,
      "outputs": [
        {
          "output_type": "stream",
          "name": "stdout",
          "text": [
            "[1 3 5]\n"
          ]
        }
      ]
    },
    {
      "cell_type": "code",
      "source": [
        "sliced_arr_1 = two_dim[0:2]\n",
        "sliced_arr_1"
      ],
      "metadata": {
        "colab": {
          "base_uri": "https://localhost:8080/"
        },
        "id": "QvW7XymDqTr-",
        "outputId": "ba45da83-f60b-4a08-ec66-cbc123c0d65f"
      },
      "execution_count": 37,
      "outputs": [
        {
          "output_type": "execute_result",
          "data": {
            "text/plain": [
              "array([[1, 2, 3],\n",
              "       [4, 5, 6]])"
            ]
          },
          "metadata": {},
          "execution_count": 37
        }
      ]
    },
    {
      "cell_type": "code",
      "source": [
        "sliced_two_dim_rows = two_dim[1:3]\n",
        "print(sliced_two_dim_rows)"
      ],
      "metadata": {
        "colab": {
          "base_uri": "https://localhost:8080/"
        },
        "id": "JQ6XmO3Oqbiw",
        "outputId": "b285f504-27a1-494c-8199-2ec822591d64"
      },
      "execution_count": 38,
      "outputs": [
        {
          "output_type": "stream",
          "name": "stdout",
          "text": [
            "[[4 5 6]\n",
            " [7 8 9]]\n"
          ]
        }
      ]
    },
    {
      "cell_type": "code",
      "source": [
        "sliced_two_dim_cols = two_dim[:,1]\n",
        "print(sliced_two_dim_cols)"
      ],
      "metadata": {
        "colab": {
          "base_uri": "https://localhost:8080/"
        },
        "id": "sWwRMzeNqi4U",
        "outputId": "43cdfe20-3685-401e-a2c5-6c6155a7a4c8"
      },
      "execution_count": 39,
      "outputs": [
        {
          "output_type": "stream",
          "name": "stdout",
          "text": [
            "[2 5 8]\n"
          ]
        }
      ]
    },
    {
      "cell_type": "code",
      "source": [
        "print(f'a == a[:]: {a == a[:]}')\n",
        "print(f'a[:] == a[::]: {a[:] == a[::]}')"
      ],
      "metadata": {
        "colab": {
          "base_uri": "https://localhost:8080/"
        },
        "id": "P80SZE1xqtni",
        "outputId": "3c7fa07b-8295-4c9f-a180-dc6eb021062e"
      },
      "execution_count": 40,
      "outputs": [
        {
          "output_type": "stream",
          "name": "stdout",
          "text": [
            "a == a[:]: [ True  True  True  True  True]\n",
            "a[:] == a[::]: [ True  True  True  True  True]\n"
          ]
        }
      ]
    },
    {
      "cell_type": "code",
      "source": [
        "a1 = np.array([[1,1],\n",
        "               [2,2]])\n",
        "a2 = np.array([[3,3],\n",
        "               [4,4]])\n",
        "print(f'a1 + a2 = \\n{a1 + a2}')\n",
        "print(f'a1 - a2 = \\n{a1 - a2}')\n",
        "print(f'a1 * a2 = \\n{a1 * a2}')"
      ],
      "metadata": {
        "colab": {
          "base_uri": "https://localhost:8080/"
        },
        "id": "U3Bz77RYqxx9",
        "outputId": "69096ad5-897f-4cd6-b968-c860afd5c1a9"
      },
      "execution_count": 41,
      "outputs": [
        {
          "output_type": "stream",
          "name": "stdout",
          "text": [
            "a1 + a2 = \n",
            "[[4 4]\n",
            " [6 6]]\n",
            "a1 - a2 = \n",
            "[[-2 -2]\n",
            " [-2 -2]]\n",
            "a1 * a2 = \n",
            "[[3 3]\n",
            " [8 8]]\n"
          ]
        }
      ]
    },
    {
      "cell_type": "code",
      "source": [
        "vert_stack = np.vstack((a1, a2))\n",
        "print(vert_stack)"
      ],
      "metadata": {
        "colab": {
          "base_uri": "https://localhost:8080/"
        },
        "id": "UPTBoon7riqJ",
        "outputId": "998d90a1-c13c-40b0-95f0-fc898276073d"
      },
      "execution_count": 42,
      "outputs": [
        {
          "output_type": "stream",
          "name": "stdout",
          "text": [
            "[[1 1]\n",
            " [2 2]\n",
            " [3 3]\n",
            " [4 4]]\n"
          ]
        }
      ]
    },
    {
      "cell_type": "code",
      "source": [
        "horz_stack = np.hstack((a1, a2))\n",
        "print(horz_stack)"
      ],
      "metadata": {
        "colab": {
          "base_uri": "https://localhost:8080/"
        },
        "id": "LWKmVLG3rn-l",
        "outputId": "fc60872b-880e-45dd-8e08-1a256e25860d"
      },
      "execution_count": 43,
      "outputs": [
        {
          "output_type": "stream",
          "name": "stdout",
          "text": [
            "[[1 1 3 3]\n",
            " [2 2 4 4]]\n"
          ]
        }
      ]
    },
    {
      "cell_type": "code",
      "source": [
        "# Split the horizontally stacked array into 2 separate arrays of equal size\n",
        "horz_split_two = np.hsplit(horz_stack,2)\n",
        "print(horz_split_two)\n",
        "\n",
        "# Split the horizontally stacked array into 4 separate arrays of equal size\n",
        "horz_split_four = np.hsplit(horz_stack,4)\n",
        "print(horz_split_four)\n",
        "\n",
        "# Split the horizontally stacked array after the first column\n",
        "horz_split_first = np.hsplit(horz_stack,[1])\n",
        "print(horz_split_first)"
      ],
      "metadata": {
        "colab": {
          "base_uri": "https://localhost:8080/"
        },
        "id": "Fbb8zrZdrtvx",
        "outputId": "0580fe00-928c-4a15-9e35-afec198ec115"
      },
      "execution_count": 47,
      "outputs": [
        {
          "output_type": "stream",
          "name": "stdout",
          "text": [
            "[array([[1, 1],\n",
            "       [2, 2]]), array([[3, 3],\n",
            "       [4, 4]])]\n",
            "[array([[1],\n",
            "       [2]]), array([[1],\n",
            "       [2]]), array([[3],\n",
            "       [4]]), array([[3],\n",
            "       [4]])]\n",
            "[array([[1],\n",
            "       [2]]), array([[1, 3, 3],\n",
            "       [2, 4, 4]])]\n"
          ]
        }
      ]
    },
    {
      "cell_type": "code",
      "source": [
        "# Split the vertically stacked array into 2 separate arrays of equal size\n",
        "vert_split_two = np.vsplit(vert_stack,2)\n",
        "print(vert_split_two)\n",
        "\n",
        "# Split the vertically stacked array into 4 separate arrays of equal size\n",
        "vert_split_four = np.vsplit(vert_stack,4)\n",
        "print(vert_split_four)\n",
        "\n",
        "# Split the vertically stacked array after the first and third row\n",
        "vert_split_first_third = np.vsplit(vert_stack,[1,3])\n",
        "print(vert_split_first_third)"
      ],
      "metadata": {
        "colab": {
          "base_uri": "https://localhost:8080/"
        },
        "id": "fGPsHD34sbbU",
        "outputId": "9d4cef07-92cf-4b01-b343-1734b7defc3d"
      },
      "execution_count": 46,
      "outputs": [
        {
          "output_type": "stream",
          "name": "stdout",
          "text": [
            "[array([[1, 1],\n",
            "       [2, 2]]), array([[3, 3],\n",
            "       [4, 4]])]\n",
            "[array([[1, 1]]), array([[2, 2]]), array([[3, 3]]), array([[4, 4]])]\n",
            "[array([[1, 1]]), array([[2, 2],\n",
            "       [3, 3]]), array([[4, 4]])]\n"
          ]
        }
      ]
    }
  ]
}